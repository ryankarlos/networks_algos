{
 "cells": [
  {
   "cell_type": "code",
   "execution_count": 1,
   "id": "39c97fcc",
   "metadata": {},
   "outputs": [],
   "source": [
    "import pgmpy\n",
    "import pyvis\n",
    "import pandas as pd\n",
    "\n",
    "import networkx as nx\n",
    "import numpy as np\n",
    "from operator import itemgetter, attrgetter\n",
    "from networkx.algorithms import tree, community\n",
    "from networkx.generators.ego import ego_graph\n",
    "import matplotlib.pylab as plt\n",
    "from pyvis.network import Network"
   ]
  },
  {
   "cell_type": "markdown",
   "id": "3e23db70",
   "metadata": {},
   "source": [
    "A large social network of GitHub developers which was collected from the public API in June 2019. Nodes are developers who have starred at least 10 repositories and edges are mutual follower relationships between them. The vertex features are extracted based on the location, repositories starred, employer and e-mail address. The task related to the graph is binary node classification - one has to predict whether the GitHub user is a web or a machine learning developer. This target feature was derived from the job title of each user."
   ]
  },
  {
   "cell_type": "code",
   "execution_count": 2,
   "id": "14f8ad55",
   "metadata": {},
   "outputs": [],
   "source": [
    "# stanford dataset network site https://snap.stanford.edu/data\n",
    "\n",
    "path_edges = \"../data/github_users_network/musae_git_edges.csv\"\n",
    "\n",
    "path_target = \"../data/github_users_network/musae_git_target.csv\"\n",
    "\n",
    "\n",
    "def reader(path_reader, path_target):\n",
    "    df_edges = pd.read_csv(path_edges)\n",
    "    df_target = pd.read_csv(path_target)\n",
    "    return df_edges, df_target\n",
    "\n",
    "def create_network_from_df(df):\n",
    "    df = df.rename(columns={df.columns[0]: 'source', df.columns[1]: 'target'})\n",
    "    Graphtype = nx.Graph()\n",
    "    G = nx.from_pandas_edgelist(df,  create_using=Graphtype)\n",
    "    return G\n",
    "    #print(nx.info(G))\n",
    "    #G.edges\n",
    "    \n",
    "    \n",
    "def get_edge_list(G, sort=True):\n",
    "    if sort:\n",
    "        # sort by node 1\n",
    "        sorted_edges = sorted(G.edges(), key=lambda x: x[0], reverse=True)\n",
    "        return sorted_edges\n",
    "    else:\n",
    "        return list(G.edges())\n",
    "\n",
    "\n",
    "def list_duplicate_edges(G):\n",
    "    dup = list(duplicates(get_edge_list(G)))\n",
    "    if len(dup) > 0:\n",
    "        print(f\"{len(dup)} duplicates found\")\n",
    "    return dup\n",
    "    \n",
    "def remove_nodes_with_low_degree(G, n):\n",
    "    degree_sorted = sorted(G.degree(), key=lambda x: x[1], reverse=True)\n",
    "    #keep top n nodes \n",
    "    node_list_remove = [node for node, v in degree_sorted[n::]]\n",
    "    G.remove_nodes_from(node_list_remove)\n",
    "    return G\n",
    "\n",
    "\n",
    "def draw_network(G, notebook=True, physics=True):\n",
    "    if notebook:\n",
    "        nt = Network('500px', '500px',notebook=True)\n",
    "    else:\n",
    "        nt = Network('500px', '500px')\n",
    "    nt.from_nx(G)\n",
    "    if physics:\n",
    "        nt.show_buttons(filter_=['physics'])\n",
    "    return nt\n",
    "\n",
    "def max_spanning_tree(G, algorithm=\"kruskal\"):\n",
    "    mst = tree.maximum_spanning_edges(G, algorithm=algorithm, data=False)\n",
    "    edge_list = list(mst)\n",
    "    G = nx.Graph()\n",
    "    G.add_edges_from(edge_list)  # using a list of edge tuples\n",
    "    return G\n",
    "    \n",
    "def compute_metrics(G):\n",
    "    degree = dict(G.degree(G.nodes()))\n",
    "    betweenness = nx.betweenness_centrality(G) # Run betweenness centrality\n",
    "    clo_cen = nx.closeness_centrality(G)\n",
    "    # Eigenvector centrality\n",
    "    eig_cen = nx.eigenvector_centrality(G)\n",
    "    return degree, betweenness, clo_cen, eig_cen\n",
    "    \n",
    "    \n",
    "def community_detection(G):\n",
    "    communities = community.greedy_modularity_communities(G)\n",
    "    modularity_dict = {} # Create a blank dictionary\n",
    "    for i,c in enumerate(communities): # Loop through the list of communities, keeping track of the number for the community\n",
    "        for name in c: # Loop through each person in a community\n",
    "            modularity_dict[name] = i # Create an entry in the dictionary for the person, where the value is which group they belong to.\n",
    "\n",
    "    return communities, modularity_dict\n",
    "    \n",
    "    \n",
    "def set_attributes(G, **kwargs):\n",
    "    for key in kwargs.keys(): \n",
    "        nx.set_node_attributes(G, kwargs[key],key)\n",
    "    return G\n",
    "\n",
    "    \n",
    "def top_betweeness_nodes_with_attributes(G, top_n=20):\n",
    "    betweenness_dict = nx.get_node_attributes(G,'betweeness')\n",
    "    sorted_betweenness = sorted(betweenness_dict.items(), key=itemgetter(1), reverse=True)\n",
    "    #First get the top n nodes by betweenness as a list\n",
    "    top_betweenness = sorted_betweenness[:top_n]\n",
    "    degree_list = []\n",
    "    modularity_list = []\n",
    "    eig_list = []\n",
    "    closeness_list = []\n",
    "    node_id = []\n",
    "    betweenness_list = []\n",
    "    #Then find and print their corresponding attributes: degree,  modularity\n",
    "    for tb in top_betweenness: # Loop through top_betweenness\n",
    "        degree = nx.get_node_attributes(G,'degree')[tb[0]] # Use degree_dict to access a node's degree\n",
    "        modularity = nx.get_node_attributes(G,'modularity')[tb[0]]\n",
    "        closeness = nx.get_node_attributes(G,'closeness')[tb[0]]\n",
    "        eigenvector = nx.get_node_attributes(G,'eigenvector')[tb[0]]\n",
    "        closeness_list.append(closeness)\n",
    "        eig_list.append(eigenvector)\n",
    "        degree_list.append(degree)\n",
    "        modularity_list.append(modularity)\n",
    "        betweenness_list.append(tb[1])\n",
    "        node_id.append(tb[0])\n",
    "        #print(\"Name:\", tb[0], \"| Betweenness Centrality:\", tb[1], \"| Degree:\", degree, \"| Modularity\", modularity)\n",
    "    return pd.DataFrame({'id':node_id, 'betweeness': betweenness_list, \n",
    "                         'Degree': degree_list, 'eigenvector':eig_list, 'closeness' : closeness_list, 'Modularity': modularity_list})\n",
    "        \n",
    "def shortest_path(G, source_id, target_id):\n",
    "    shortest_path = nx.shortest_path(G, source=source_id, target=target_id)\n",
    "    print(\"Shortest path between user1 and user2:\", shortest_path)\n",
    "    return shortest_path\n",
    "\n",
    "def plot_community_class_count(communities):\n",
    "    count_list = []\n",
    "    class_list = []\n",
    "    for i,c in enumerate(communities):\n",
    "        class_list.append(i)\n",
    "        count_list.append(len(list(c)))\n",
    "\n",
    "    df = pd.DataFrame({'class':class_list, 'count':count_list})\n",
    "    df.plot.bar(x='class', y='count')\n",
    "    return df\n",
    "\n",
    "def connected_components(G, subgraph=False, node_list=None):\n",
    "    # use nx.connected_components to get the list of components,\n",
    "    # then use the max() command to find the largest one:\n",
    "    components = nx.connected_components(G)\n",
    "    print(components)\n",
    "    largest_component = max(components, key=len)\n",
    "    return components, largest_component\n",
    "\n",
    "def plot_subgraph(G, node_list):\n",
    "    subgraph = G.subgraph(node_list)\n",
    "    diameter = nx.diameter(subgraph)\n",
    "    print(\"Network diameter of largest component:\", diameter)\n",
    "    nt = draw_network(subgraph)\n",
    "    return nt\n",
    "\n",
    "def plot_ego_network(G, n, radius):\n",
    "    \"\"\"\n",
    "    plot ego network around a node n depending\n",
    "    on radius setting i.e. only include upto\n",
    "    n nodes directly or indirectly connected to\n",
    "    this node\n",
    "    \"\"\"\n",
    "    ego_nx = ego_graph(G, n, radius=radius)\n",
    "    nt = draw_network(ego_nx)\n",
    "    return nt\n",
    "    \n",
    "def export_graph(G, path='../data/github_network.gexf'):\n",
    "    nx.write_gexf(G, path)"
   ]
  },
  {
   "cell_type": "markdown",
   "id": "25f86d00",
   "metadata": {},
   "source": [
    "#### Read in dataset and plot graph after restriocting to top 1000  nodes with higest degree\n",
    "\n",
    "The  lets prune this by running max weighted spanning tree algo"
   ]
  },
  {
   "cell_type": "code",
   "execution_count": 3,
   "id": "4e5f30ff",
   "metadata": {},
   "outputs": [
    {
     "data": {
      "text/html": [
       "\n",
       "        <iframe\n",
       "            width=\"500px\"\n",
       "            height=\"500px\"\n",
       "            src=\"outputs/original_net_top_300_degree.html\"\n",
       "            frameborder=\"0\"\n",
       "            allowfullscreen\n",
       "        ></iframe>\n",
       "        "
      ],
      "text/plain": [
       "<IPython.lib.display.IFrame at 0x7fbcf1768af0>"
      ]
     },
     "execution_count": 3,
     "metadata": {},
     "output_type": "execute_result"
    }
   ],
   "source": [
    "\n",
    "df_edges, df_target = reader(path_edges, path_target) \n",
    "main_nx = create_network_from_df(df_edges)\n",
    "main_nx = remove_nodes_with_low_degree(main_nx, n=300)\n",
    "nt= draw_network(main_nx)\n",
    "nt.show('outputs/original_net_top_300_degree.html')"
   ]
  },
  {
   "cell_type": "markdown",
   "id": "df311ba4",
   "metadata": {},
   "source": [
    "#### Compute metrics and list metrics for top betweeness centralty nodes"
   ]
  },
  {
   "cell_type": "code",
   "execution_count": 4,
   "id": "f106ed79",
   "metadata": {},
   "outputs": [],
   "source": [
    "degree, betweenness, clo, eig = compute_metrics(main_nx)\n",
    "metrics = {'degree': degree, 'betweeness': betweenness, 'closeness': clo, 'eigenvector': eig}\n",
    "\n",
    "metrics_main_nx = pd.DataFrame(metrics)"
   ]
  },
  {
   "cell_type": "code",
   "execution_count": 5,
   "id": "a89cca71",
   "metadata": {},
   "outputs": [
    {
     "data": {
      "text/plain": [
       "Text(0, 0.5, 'Frequency')"
      ]
     },
     "execution_count": 5,
     "metadata": {},
     "output_type": "execute_result"
    },
    {
     "data": {
      "image/png": "[encoded data removed]",
      "text/plain": [
       "<Figure size 432x432 with 1 Axes>"
      ]
     },
     "metadata": {
      "needs_background": "light"
     },
     "output_type": "display_data"
    },
    {
     "data": {
      "image/png": "[encoded data removed]",
      "text/plain": [
       "<Figure size 432x432 with 1 Axes>"
      ]
     },
     "metadata": {
      "needs_background": "light"
     },
     "output_type": "display_data"
    },
    {
     "data": {
      "image/png": "[encoded data removed]",
      "text/plain": [
       "<Figure size 720x432 with 1 Axes>"
      ]
     },
     "metadata": {
      "needs_background": "light"
     },
     "output_type": "display_data"
    }
   ],
   "source": [
    "# this returns the entire graph as only one component in this graph \n",
    "\n",
    "plt.figure(figsize=(6, 6)) \n",
    "plt.scatter(metrics_main_nx['degree'], metrics_main_nx['closeness'])\n",
    "plt.title('Scatter: Degree vs closeness metric')\n",
    "\n",
    "plt.figure(figsize=(6, 6)) \n",
    "plt.hist(metrics_main_nx['degree'])\n",
    "plt.title('Histrogram of degrees')\n",
    "\n",
    "m=1\n",
    "degree_freq = nx.degree_histogram(main_nx)\n",
    "degrees = range(len(degree_freq))\n",
    "plt.figure(figsize=(10, 6)) \n",
    "plt.loglog(degrees[m:], degree_freq[m:],'go-') \n",
    "plt.title('log log plot for degree freq,')\n",
    "plt.xlabel('Degree')\n",
    "plt.ylabel('Frequency')"
   ]
  },
  {
   "cell_type": "markdown",
   "id": "inside-techno",
   "metadata": {},
   "source": [
    "#### Pruned network - Max Weighted Spanning tree"
   ]
  },
  {
   "cell_type": "code",
   "execution_count": 6,
   "id": "different-thriller",
   "metadata": {
    "scrolled": false
   },
   "outputs": [
    {
     "data": {
      "text/html": [
       "\n",
       "        <iframe\n",
       "            width=\"500px\"\n",
       "            height=\"500px\"\n",
       "            src=\"outputs/mst_network.html\"\n",
       "            frameborder=\"0\"\n",
       "            allowfullscreen\n",
       "        ></iframe>\n",
       "        "
      ],
      "text/plain": [
       "<IPython.lib.display.IFrame at 0x7fbcf29bde20>"
      ]
     },
     "execution_count": 6,
     "metadata": {},
     "output_type": "execute_result"
    }
   ],
   "source": [
    "prune_nx =  max_spanning_tree(main_nx, algorithm=\"kruskal\")\n",
    "nt= draw_network(prune_nx)\n",
    "nt.show('outputs/mst_network.html')"
   ]
  },
  {
   "cell_type": "code",
   "execution_count": 7,
   "id": "5c9fd120",
   "metadata": {},
   "outputs": [
    {
     "data": {
      "text/html": [
       "<div>\n",
       "<style scoped>\n",
       "    .dataframe tbody tr th:only-of-type {\n",
       "        vertical-align: middle;\n",
       "    }\n",
       "\n",
       "    .dataframe tbody tr th {\n",
       "        vertical-align: top;\n",
       "    }\n",
       "\n",
       "    .dataframe thead th {\n",
       "        text-align: right;\n",
       "    }\n",
       "</style>\n",
       "<table border=\"1\" class=\"dataframe\">\n",
       "  <thead>\n",
       "    <tr style=\"text-align: right;\">\n",
       "      <th></th>\n",
       "      <th>id</th>\n",
       "      <th>betweeness</th>\n",
       "      <th>Degree</th>\n",
       "      <th>eigenvector</th>\n",
       "      <th>closeness</th>\n",
       "      <th>Modularity</th>\n",
       "    </tr>\n",
       "  </thead>\n",
       "  <tbody>\n",
       "    <tr>\n",
       "      <th>0</th>\n",
       "      <td>27803</td>\n",
       "      <td>0.923571</td>\n",
       "      <td>215</td>\n",
       "      <td>0.706411</td>\n",
       "      <td>0.720482</td>\n",
       "      <td>0</td>\n",
       "    </tr>\n",
       "    <tr>\n",
       "      <th>1</th>\n",
       "      <td>29982</td>\n",
       "      <td>0.467868</td>\n",
       "      <td>52</td>\n",
       "      <td>0.063142</td>\n",
       "      <td>0.544627</td>\n",
       "      <td>1</td>\n",
       "    </tr>\n",
       "    <tr>\n",
       "      <th>2</th>\n",
       "      <td>21142</td>\n",
       "      <td>0.141950</td>\n",
       "      <td>22</td>\n",
       "      <td>0.004768</td>\n",
       "      <td>0.372354</td>\n",
       "      <td>2</td>\n",
       "    </tr>\n",
       "    <tr>\n",
       "      <th>3</th>\n",
       "      <td>20363</td>\n",
       "      <td>0.026621</td>\n",
       "      <td>5</td>\n",
       "      <td>0.004384</td>\n",
       "      <td>0.356377</td>\n",
       "      <td>3</td>\n",
       "    </tr>\n",
       "    <tr>\n",
       "      <th>4</th>\n",
       "      <td>31890</td>\n",
       "      <td>0.020000</td>\n",
       "      <td>4</td>\n",
       "      <td>0.004364</td>\n",
       "      <td>0.355529</td>\n",
       "      <td>4</td>\n",
       "    </tr>\n",
       "    <tr>\n",
       "      <th>...</th>\n",
       "      <td>...</td>\n",
       "      <td>...</td>\n",
       "      <td>...</td>\n",
       "      <td>...</td>\n",
       "      <td>...</td>\n",
       "      <td>...</td>\n",
       "    </tr>\n",
       "    <tr>\n",
       "      <th>295</th>\n",
       "      <td>20978</td>\n",
       "      <td>0.000000</td>\n",
       "      <td>1</td>\n",
       "      <td>0.000297</td>\n",
       "      <td>0.262511</td>\n",
       "      <td>4</td>\n",
       "    </tr>\n",
       "    <tr>\n",
       "      <th>296</th>\n",
       "      <td>29892</td>\n",
       "      <td>0.000000</td>\n",
       "      <td>1</td>\n",
       "      <td>0.000295</td>\n",
       "      <td>0.261592</td>\n",
       "      <td>1</td>\n",
       "    </tr>\n",
       "    <tr>\n",
       "      <th>297</th>\n",
       "      <td>37557</td>\n",
       "      <td>0.000000</td>\n",
       "      <td>1</td>\n",
       "      <td>0.000295</td>\n",
       "      <td>0.261592</td>\n",
       "      <td>1</td>\n",
       "    </tr>\n",
       "    <tr>\n",
       "      <th>298</th>\n",
       "      <td>7562</td>\n",
       "      <td>0.000000</td>\n",
       "      <td>1</td>\n",
       "      <td>0.000022</td>\n",
       "      <td>0.214030</td>\n",
       "      <td>2</td>\n",
       "    </tr>\n",
       "    <tr>\n",
       "      <th>299</th>\n",
       "      <td>15074</td>\n",
       "      <td>0.000000</td>\n",
       "      <td>1</td>\n",
       "      <td>0.003296</td>\n",
       "      <td>0.296333</td>\n",
       "      <td>6</td>\n",
       "    </tr>\n",
       "  </tbody>\n",
       "</table>\n",
       "<p>300 rows × 6 columns</p>\n",
       "</div>"
      ],
      "text/plain": [
       "        id  betweeness  Degree  eigenvector  closeness  Modularity\n",
       "0    27803    0.923571     215     0.706411   0.720482           0\n",
       "1    29982    0.467868      52     0.063142   0.544627           1\n",
       "2    21142    0.141950      22     0.004768   0.372354           2\n",
       "3    20363    0.026621       5     0.004384   0.356377           3\n",
       "4    31890    0.020000       4     0.004364   0.355529           4\n",
       "..     ...         ...     ...          ...        ...         ...\n",
       "295  20978    0.000000       1     0.000297   0.262511           4\n",
       "296  29892    0.000000       1     0.000295   0.261592           1\n",
       "297  37557    0.000000       1     0.000295   0.261592           1\n",
       "298   7562    0.000000       1     0.000022   0.214030           2\n",
       "299  15074    0.000000       1     0.003296   0.296333           6\n",
       "\n",
       "[300 rows x 6 columns]"
      ]
     },
     "execution_count": 7,
     "metadata": {},
     "output_type": "execute_result"
    }
   ],
   "source": [
    "communities, modularity = community_detection(prune_nx)\n",
    "degree, betweenness, clo, eig = compute_metrics(prune_nx)\n",
    "metrics = {'degree': degree, 'betweeness': betweenness, 'closeness': clo, 'eigenvector': eig, 'modularity': modularity}\n",
    "prune_nx = set_attributes(prune_nx, **metrics)\n",
    "metrics = top_betweeness_nodes_with_attributes(prune_nx, top_n=1000)\n",
    "metrics"
   ]
  },
  {
   "cell_type": "markdown",
   "id": "1fa729d3",
   "metadata": {},
   "source": [
    "check out who these top 3 people are by joining on target df\n"
   ]
  },
  {
   "cell_type": "code",
   "execution_count": 8,
   "id": "mental-mother",
   "metadata": {},
   "outputs": [
    {
     "name": "stdout",
     "output_type": "stream",
     "text": [
      "Shortest path between user1 and user2: [27048, 20363, 29982, 18562]\n"
     ]
    },
    {
     "data": {
      "image/png": "[encoded data removed]",
      "text/plain": [
       "<Figure size 432x288 with 1 Axes>"
      ]
     },
     "metadata": {
      "needs_background": "light"
     },
     "output_type": "display_data"
    }
   ],
   "source": [
    "\n",
    "shortest = shortest_path(prune_nx, source_id=27048, target_id=18562)\n",
    "community_count = plot_community_class_count(communities)"
   ]
  },
  {
   "cell_type": "code",
   "execution_count": 9,
   "id": "a6e5f8d1",
   "metadata": {},
   "outputs": [
    {
     "data": {
      "text/html": [
       "<div>\n",
       "<style scoped>\n",
       "    .dataframe tbody tr th:only-of-type {\n",
       "        vertical-align: middle;\n",
       "    }\n",
       "\n",
       "    .dataframe tbody tr th {\n",
       "        vertical-align: top;\n",
       "    }\n",
       "\n",
       "    .dataframe thead th {\n",
       "        text-align: right;\n",
       "    }\n",
       "</style>\n",
       "<table border=\"1\" class=\"dataframe\">\n",
       "  <thead>\n",
       "    <tr style=\"text-align: right;\">\n",
       "      <th></th>\n",
       "      <th>id</th>\n",
       "      <th>name</th>\n",
       "      <th>ml_target</th>\n",
       "    </tr>\n",
       "  </thead>\n",
       "  <tbody>\n",
       "    <tr>\n",
       "      <th>0</th>\n",
       "      <td>27803</td>\n",
       "      <td>nfultz</td>\n",
       "      <td>0</td>\n",
       "    </tr>\n",
       "    <tr>\n",
       "      <th>1</th>\n",
       "      <td>29982</td>\n",
       "      <td>dead-horse</td>\n",
       "      <td>0</td>\n",
       "    </tr>\n",
       "    <tr>\n",
       "      <th>2</th>\n",
       "      <td>21142</td>\n",
       "      <td>fengmk2</td>\n",
       "      <td>0</td>\n",
       "    </tr>\n",
       "  </tbody>\n",
       "</table>\n",
       "</div>"
      ],
      "text/plain": [
       "      id        name  ml_target\n",
       "0  27803      nfultz          0\n",
       "1  29982  dead-horse          0\n",
       "2  21142     fengmk2          0"
      ]
     },
     "execution_count": 9,
     "metadata": {},
     "output_type": "execute_result"
    }
   ],
   "source": [
    "top_nodes_labels = metrics.iloc[0:3, :].merge(df_target, on='id')[['id', 'name', 'ml_target']]\n",
    "top_nodes_labels"
   ]
  },
  {
   "cell_type": "markdown",
   "id": "3afb929c",
   "metadata": {},
   "source": [
    "#### subgraph with commuity groups "
   ]
  },
  {
   "cell_type": "code",
   "execution_count": 10,
   "id": "59f21fe4",
   "metadata": {},
   "outputs": [
    {
     "name": "stdout",
     "output_type": "stream",
     "text": [
      "<generator object connected_components at 0x7fbcef3c0120>\n",
      "Network diameter of largest component: 6\n"
     ]
    },
    {
     "data": {
      "text/html": [
       "\n",
       "        <iframe\n",
       "            width=\"500px\"\n",
       "            height=\"500px\"\n",
       "            src=\"outputs/subgraph.html\"\n",
       "            frameborder=\"0\"\n",
       "            allowfullscreen\n",
       "        ></iframe>\n",
       "        "
      ],
      "text/plain": [
       "<IPython.lib.display.IFrame at 0x7fbcf1338d60>"
      ]
     },
     "execution_count": 10,
     "metadata": {},
     "output_type": "execute_result"
    }
   ],
   "source": [
    "\n",
    "components, largest_component = connected_components(prune_nx)\n",
    "nt = plot_subgraph(prune_nx, largest_component)\n",
    "mapper = {0:'red', 1: 'yellow', 2: 'green', 3:'orange', 4: 'brown', 5: 'purple', 6:'pink'}\n",
    "\n",
    "node_id_list = list(metrics['id'].values)\n",
    "\n",
    "for node in nt.nodes:\n",
    "    if node['id'] in node_id_list:\n",
    "        mod = metrics.loc[metrics['id']== node['id'], 'Modularity'].values[0]\n",
    "        node['color'] = mapper[mod]\n",
    "        \n",
    "nt.show('outputs/subgraph.html')"
   ]
  },
  {
   "cell_type": "markdown",
   "id": "94a58cb3",
   "metadata": {},
   "source": [
    "pick node with highest betweeness centrality and plot ego network with radius 2 "
   ]
  },
  {
   "cell_type": "code",
   "execution_count": 11,
   "id": "pleased-mistake",
   "metadata": {},
   "outputs": [
    {
     "data": {
      "text/html": [
       "\n",
       "        <iframe\n",
       "            width=\"500px\"\n",
       "            height=\"500px\"\n",
       "            src=\"outputs/ego.html\"\n",
       "            frameborder=\"0\"\n",
       "            allowfullscreen\n",
       "        ></iframe>\n",
       "        "
      ],
      "text/plain": [
       "<IPython.lib.display.IFrame at 0x7fbcef3c1610>"
      ]
     },
     "execution_count": 11,
     "metadata": {},
     "output_type": "execute_result"
    }
   ],
   "source": [
    "node_id = 27803\n",
    "\n",
    "nt = plot_ego_network(prune_nx, node_id, radius = 1)\n",
    "for node in nt.nodes:\n",
    "    if node['id'] == node_id:\n",
    "        mod = metrics.loc[metrics['id']== node['id'], 'Modularity'].values[0]\n",
    "        node['color'] = mapper[mod]\n",
    "nt.show('outputs/ego.html')"
   ]
  },
  {
   "cell_type": "markdown",
   "id": "cdf56070",
   "metadata": {},
   "source": [
    "#### Run node classification algo and plot labels \n",
    "\n"
   ]
  },
  {
   "cell_type": "code",
   "execution_count": 12,
   "id": "4f3c0197",
   "metadata": {},
   "outputs": [],
   "source": [
    "from networkx.algorithms import node_classification\n",
    "\n",
    "\n",
    "sample_targets = df_target.sample(frac=0.8, replace=False, random_state=1)\n",
    "\n",
    "for i in list(sample_targets['id'].values):\n",
    "    if i in prune_nx.nodes:\n",
    "        # add labels attribute (from sample of true labels df) to node for classification algo\n",
    "        prune_nx.nodes[i]['label'] = sample_targets.loc[sample_targets['id'] == i, 'ml_target'].values[0]\n",
    "\n",
    "# algo will predict missing labels\n",
    "pred_labels = node_classification.harmonic_function(prune_nx)"
   ]
  },
  {
   "cell_type": "code",
   "execution_count": 13,
   "id": "10de6949",
   "metadata": {},
   "outputs": [
    {
     "data": {
      "text/html": [
       "\n",
       "        <iframe\n",
       "            width=\"500px\"\n",
       "            height=\"500px\"\n",
       "            src=\"outputs/node_classification.html\"\n",
       "            frameborder=\"0\"\n",
       "            allowfullscreen\n",
       "        ></iframe>\n",
       "        "
      ],
      "text/plain": [
       "<IPython.lib.display.IFrame at 0x7fbcf3f30c70>"
      ]
     },
     "execution_count": 13,
     "metadata": {},
     "output_type": "execute_result"
    }
   ],
   "source": [
    "nt= draw_network(prune_nx)\n",
    "\n",
    "\n",
    "for i, node in enumerate(nt.nodes):\n",
    "    if pred_labels[i] == 0:   # web developer\n",
    "        node['label'] = 0\n",
    "        node['color'] = \"red\"\n",
    "    elif pred_labels[i] == 1:\n",
    "        node['label'] = 1  # machine learning dev\n",
    "        node['color'] = \"green\"\n",
    "        \n",
    "nt.show('outputs/node_classification.html')"
   ]
  }
 ],
 "metadata": {
  "kernelspec": {
   "display_name": "Python3.9 Bayesian Graphs",
   "language": "python",
   "name": "bayes"
  },
  "language_info": {
   "codemirror_mode": {
    "name": "ipython",
    "version": 3
   },
   "file_extension": ".py",
   "mimetype": "text/x-python",
   "name": "python",
   "nbconvert_exporter": "python",
   "pygments_lexer": "ipython3",
   "version": "3.9.0"
  }
 },
 "nbformat": 4,
 "nbformat_minor": 5
}
