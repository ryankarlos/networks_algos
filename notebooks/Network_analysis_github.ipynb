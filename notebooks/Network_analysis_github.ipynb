{
 "cells": [
  {
   "cell_type": "code",
   "execution_count": 372,
   "id": "39c97fcc",
   "metadata": {},
   "outputs": [],
   "source": [
    "import pyvis\n",
    "import pandas as pd\n",
    "\n",
    "import networkx as nx\n",
    "import numpy as np\n",
    "from operator import itemgetter, attrgetter\n",
    "from networkx.algorithms import tree, community\n",
    "from networkx.generators.ego import ego_graph\n",
    "import matplotlib.pylab as plt\n",
    "from pyvis.network import Network"
   ]
  },
  {
   "cell_type": "markdown",
   "id": "3e23db70",
   "metadata": {},
   "source": [
    "A large social network of GitHub developers which was collected from the public API in June 2019. Nodes are developers who have starred at least 10 repositories and edges are mutual follower relationships between them. The vertex features are extracted based on the location, repositories starred, employer and e-mail address. Each github user is classes as either a web developer or machine learning engineer."
   ]
  },
  {
   "cell_type": "code",
   "execution_count": 384,
   "id": "14f8ad55",
   "metadata": {},
   "outputs": [],
   "source": [
    "# stanford dataset network site https://snap.stanford.edu/data\n",
    "\n",
    "path_edges = \"../data/github_users_network/musae_git_edges.csv\"\n",
    "path_target = \"../data/github_users_network/musae_git_target.csv\"\n",
    "\n",
    "var_options =\"\"\"\n",
    "var options = {\n",
    "  \"physics\": {\n",
    "    \"repulsion\": {\n",
    "      \"springLength\": 225,\n",
    "      \"springConstant\": 0.02,\n",
    "      \"nodeDistance\": 330,\n",
    "      \"damping\": 0.08\n",
    "    },\n",
    "    \"minVelocity\": 0.75,\n",
    "    \"solver\": \"repulsion\"\n",
    "  }\n",
    "}\n",
    "\"\"\"\n",
    "\n",
    "def reader(path_reader, path_target):\n",
    "    df_edges = pd.read_csv(path_edges)\n",
    "    df_target = pd.read_csv(path_target)\n",
    "    return df_edges, df_target\n",
    "\n",
    "def create_network_from_df(df):\n",
    "    df = df.rename(columns={df.columns[0]: 'source', df.columns[1]: 'target'})\n",
    "    Graphtype = nx.Graph()\n",
    "    G = nx.from_pandas_edgelist(df,  create_using=Graphtype)\n",
    "    return G\n",
    "    #print(nx.info(G))\n",
    "    #G.edges\n",
    "    \n",
    "    \n",
    "def get_edge_list(G, sort=True):\n",
    "    if sort:\n",
    "        # sort by node 1\n",
    "        sorted_edges = sorted(G.edges(), key=lambda x: x[0], reverse=True)\n",
    "        return sorted_edges\n",
    "    else:\n",
    "        return list(G.edges())\n",
    "\n",
    "\n",
    "def list_duplicate_edges(G):\n",
    "    dup = list(duplicates(get_edge_list(G)))\n",
    "    if len(dup) > 0:\n",
    "        print(f\"{len(dup)} duplicates found\")\n",
    "    return dup\n",
    "    \n",
    "def remove_nodes_with_low_degree(G, n):\n",
    "    degree_sorted = sorted(G.degree(), key=lambda x: x[1], reverse=True)\n",
    "    #keep top n nodes \n",
    "    node_list_remove = [node for node, v in degree_sorted[n::]]\n",
    "    G.remove_nodes_from(node_list_remove)\n",
    "    return G\n",
    "\n",
    "\n",
    "def draw_network(G, notebook=True, physics=True, config=None):\n",
    "    if notebook:\n",
    "        nt = Network(height='750px', width='100%',notebook=True)\n",
    "    else:\n",
    "        nt = Network(height='750px', width='100%')\n",
    "    nt.from_nx(G)\n",
    "    if physics:\n",
    "        nt.show_buttons(filter_=['physics'])\n",
    "    if config is not None:\n",
    "        nt.set_options(config) \n",
    "    return nt\n",
    "\n",
    "def max_spanning_tree(G, algorithm=\"kruskal\"):\n",
    "    mst = tree.maximum_spanning_edges(G, algorithm=algorithm, data=False)\n",
    "    edge_list = list(mst)\n",
    "    G = nx.Graph()\n",
    "    G.add_edges_from(edge_list)  # using a list of edge tuples\n",
    "    return G\n",
    "    \n",
    "def compute_metrics(G):\n",
    "    degree = dict(G.degree(G.nodes()))\n",
    "    betweenness = nx.betweenness_centrality(G) # Run betweenness centrality\n",
    "    clo_cen = nx.closeness_centrality(G)\n",
    "    # Eigenvector centrality\n",
    "    eig_cen = nx.eigenvector_centrality(G)\n",
    "    return degree, betweenness, clo_cen, eig_cen\n",
    "    \n",
    "    \n",
    "def community_detection(G):\n",
    "    communities = community.greedy_modularity_communities(G)\n",
    "    modularity_dict = {} # Create a blank dictionary\n",
    "    for i,c in enumerate(communities): # Loop through the list of communities, keeping track of the number for the community\n",
    "        for name in c: # Loop through each person in a community\n",
    "            modularity_dict[name] = i # Create an entry in the dictionary for the person, where the value is which group they belong to.\n",
    "\n",
    "    return communities, modularity_dict\n",
    "    \n",
    "    \n",
    "def set_attributes(G, **kwargs):\n",
    "    for key in kwargs.keys(): \n",
    "        nx.set_node_attributes(G, kwargs[key],key)\n",
    "    return G\n",
    "\n",
    "    \n",
    "def top_betweeness_nodes_with_attributes(G, top_n=20):\n",
    "    betweenness_dict = nx.get_node_attributes(G,'betweeness')\n",
    "    sorted_betweenness = sorted(betweenness_dict.items(), key=itemgetter(1), reverse=True)\n",
    "    #First get the top n nodes by betweenness as a list\n",
    "    top_betweenness = sorted_betweenness[:top_n]\n",
    "    degree_list = []\n",
    "    modularity_list = []\n",
    "    eig_list = []\n",
    "    closeness_list = []\n",
    "    node_id = []\n",
    "    betweenness_list = []\n",
    "    #Then find and print their corresponding attributes: degree,  modularity\n",
    "    for tb in top_betweenness: # Loop through top_betweenness\n",
    "        degree = nx.get_node_attributes(G,'degree')[tb[0]] # Use degree_dict to access a node's degree\n",
    "        modularity = nx.get_node_attributes(G,'modularity')[tb[0]]\n",
    "        closeness = nx.get_node_attributes(G,'closeness')[tb[0]]\n",
    "        eigenvector = nx.get_node_attributes(G,'eigenvector')[tb[0]]\n",
    "        closeness_list.append(closeness)\n",
    "        eig_list.append(eigenvector)\n",
    "        degree_list.append(degree)\n",
    "        modularity_list.append(modularity)\n",
    "        betweenness_list.append(tb[1])\n",
    "        node_id.append(tb[0])\n",
    "        #print(\"Name:\", tb[0], \"| Betweenness Centrality:\", tb[1], \"| Degree:\", degree, \"| Modularity\", modularity)\n",
    "    return pd.DataFrame({'id':node_id, 'betweeness': betweenness_list, \n",
    "                         'Degree': degree_list, 'eigenvector':eig_list, 'closeness' : closeness_list, 'Modularity': modularity_list})\n",
    "        \n",
    "def shortest_path(G, source_id, target_id):\n",
    "    shortest_path = nx.shortest_path(G, source=source_id, target=target_id)\n",
    "    print(\"Shortest path between user1 and user2:\", shortest_path)\n",
    "    return shortest_path\n",
    "\n",
    "def plot_community_class_count(communities):\n",
    "    count_list = []\n",
    "    class_list = []\n",
    "    for i,c in enumerate(communities):\n",
    "        class_list.append(i)\n",
    "        count_list.append(len(list(c)))\n",
    "\n",
    "    df = pd.DataFrame({'class':class_list, 'count':count_list})\n",
    "    df.plot.bar(x='class', y='count')\n",
    "    return df\n",
    "\n",
    "def connected_components(G, subgraph=False, node_list=None):\n",
    "    # use nx.connected_components to get the list of components,\n",
    "    # then use the max() command to find the largest one:\n",
    "    components = nx.connected_components(G)\n",
    "    print(components)\n",
    "    largest_component = max(components, key=len)\n",
    "    return components, largest_component\n",
    "\n",
    "def plot_subgraph(G, node_list):\n",
    "    subgraph = G.subgraph(node_list)\n",
    "    diameter = nx.diameter(subgraph)\n",
    "    print(\"Network diameter of largest component:\", diameter)\n",
    "    nt = draw_network(subgraph)\n",
    "    return nt\n",
    "\n",
    "def plot_ego_network(G, n, radius):\n",
    "    \"\"\"\n",
    "    plot ego network around a node n depending\n",
    "    on radius setting i.e. only include upto\n",
    "    n nodes directly or indirectly connected to\n",
    "    this node\n",
    "    \"\"\"\n",
    "    ego_nx = ego_graph(G, n, radius=radius)\n",
    "    nt = draw_network(ego_nx)\n",
    "    return nt\n",
    "    \n",
    "\n",
    "def create_bridge_network(G):\n",
    "    bridges = list(nx.bridges(G))\n",
    "    edges = G.edges()\n",
    "    edgecolor = []\n",
    "    for a in edges:\n",
    "        if any([a==b for b in bridges]):\n",
    "            edgecolor.append('red')\n",
    "        else:\n",
    "            edgecolor.append('lightblue')\n",
    "    return bridges, edgecolor\n",
    "\n",
    "def assortativity(G):\n",
    "    return nx.degree_assortativity_coefficient(G)\n",
    "\n",
    "def export_graph(G, path='../data/github_network.gexf'):\n",
    "    nx.write_gexf(G, path)\n",
    "\n"
   ]
  },
  {
   "cell_type": "markdown",
   "id": "25f86d00",
   "metadata": {},
   "source": [
    "#### Read in dataset and plot graph after restriocting to top 1000  nodes with higest degree\n",
    "\n",
    "The  lets prune this by running max weighted spanning tree algo"
   ]
  },
  {
   "cell_type": "code",
   "execution_count": 385,
   "id": "4e5f30ff",
   "metadata": {},
   "outputs": [
    {
     "data": {
      "text/html": [
       "\n",
       "        <iframe\n",
       "            width=\"100%\"\n",
       "            height=\"750px\"\n",
       "            src=\"outputs/original_net_top_50_degree.html\"\n",
       "            frameborder=\"0\"\n",
       "            allowfullscreen\n",
       "            \n",
       "        ></iframe>\n",
       "        "
      ],
      "text/plain": [
       "<IPython.lib.display.IFrame at 0x7fbbd42f4a90>"
      ]
     },
     "execution_count": 385,
     "metadata": {},
     "output_type": "execute_result"
    }
   ],
   "source": [
    "df_edges, df_target = reader(path_edges, path_target) \n",
    "main_nx = create_network_from_df(df_edges)\n",
    "main_nx = remove_nodes_with_low_degree(main_nx, n=50)\n",
    "nt= draw_network(main_nx, config=None)\n",
    "nt.show('outputs/original_net_top_50_degree.html')\n"
   ]
  },
  {
   "cell_type": "markdown",
   "id": "df311ba4",
   "metadata": {},
   "source": [
    "#### Compute metrics and list metrics for top betweeness centralty nodes"
   ]
  },
  {
   "cell_type": "code",
   "execution_count": 342,
   "id": "f106ed79",
   "metadata": {},
   "outputs": [],
   "source": [
    "degree, betweenness, clo, eig = compute_metrics(main_nx)\n",
    "metrics = {'degree': degree, 'betweeness': betweenness, 'closeness': clo, 'eigenvector': eig}\n",
    "metrics_main_nx = pd.DataFrame(metrics)"
   ]
  },
  {
   "cell_type": "code",
   "execution_count": 343,
   "id": "a89cca71",
   "metadata": {},
   "outputs": [
    {
     "data": {
      "text/plain": [
       "Text(0, 0.5, 'Frequency')"
      ]
     },
     "execution_count": 343,
     "metadata": {},
     "output_type": "execute_result"
    },
    {
     "data": {
      "image/png": "[encoded data removed]",
      "text/plain": [
       "<Figure size 432x432 with 1 Axes>"
      ]
     },
     "metadata": {
      "needs_background": "light"
     },
     "output_type": "display_data"
    },
    {
     "data": {
      "image/png": "[encoded data removed]",
      "text/plain": [
       "<Figure size 432x432 with 1 Axes>"
      ]
     },
     "metadata": {
      "needs_background": "light"
     },
     "output_type": "display_data"
    },
    {
     "data": {
      "image/png": "[encoded data removed]",
      "text/plain": [
       "<Figure size 720x432 with 1 Axes>"
      ]
     },
     "metadata": {
      "needs_background": "light"
     },
     "output_type": "display_data"
    }
   ],
   "source": [
    "# this returns the entire graph as only one component in this graph \n",
    "\n",
    "plt.figure(figsize=(6, 6)) \n",
    "plt.scatter(metrics_main_nx['degree'], metrics_main_nx['closeness'])\n",
    "plt.title('Scatter: Degree vs closeness metric')\n",
    "\n",
    "plt.figure(figsize=(6, 6)) \n",
    "plt.hist(metrics_main_nx['degree'])\n",
    "plt.title('Histrogram of degrees')\n",
    "\n",
    "m=1\n",
    "degree_freq = nx.degree_histogram(main_nx)\n",
    "degrees = range(len(degree_freq))\n",
    "plt.figure(figsize=(10, 6)) \n",
    "plt.loglog(degrees[m:], degree_freq[m:],'go-') \n",
    "plt.title('log log plot for degree freq,')\n",
    "plt.xlabel('Degree')\n",
    "plt.ylabel('Frequency')"
   ]
  },
  {
   "cell_type": "markdown",
   "id": "inside-techno",
   "metadata": {},
   "source": [
    "#### Kruskal algo  - Max Weighted Spanning tree"
   ]
  },
  {
   "cell_type": "code",
   "execution_count": 376,
   "id": "different-thriller",
   "metadata": {
    "scrolled": false
   },
   "outputs": [
    {
     "data": {
      "text/html": [
       "\n",
       "        <iframe\n",
       "            width=\"100%\"\n",
       "            height=\"750px\"\n",
       "            src=\"outputs/mst_network.html\"\n",
       "            frameborder=\"0\"\n",
       "            allowfullscreen\n",
       "            \n",
       "        ></iframe>\n",
       "        "
      ],
      "text/plain": [
       "<IPython.lib.display.IFrame at 0x7fbbdb434400>"
      ]
     },
     "execution_count": 376,
     "metadata": {},
     "output_type": "execute_result"
    }
   ],
   "source": [
    "prune_nx =  max_spanning_tree(main_nx, algorithm=\"kruskal\")\n",
    "nt= draw_network(prune_nx)\n",
    "nt.show('outputs/mst_network.html')"
   ]
  },
  {
   "cell_type": "markdown",
   "id": "912cf2a4",
   "metadata": {},
   "source": [
    "#### Community Detection"
   ]
  },
  {
   "cell_type": "code",
   "execution_count": 347,
   "id": "5c9fd120",
   "metadata": {},
   "outputs": [
    {
     "data": {
      "text/html": [
       "<div>\n",
       "<style scoped>\n",
       "    .dataframe tbody tr th:only-of-type {\n",
       "        vertical-align: middle;\n",
       "    }\n",
       "\n",
       "    .dataframe tbody tr th {\n",
       "        vertical-align: top;\n",
       "    }\n",
       "\n",
       "    .dataframe thead th {\n",
       "        text-align: right;\n",
       "    }\n",
       "</style>\n",
       "<table border=\"1\" class=\"dataframe\">\n",
       "  <thead>\n",
       "    <tr style=\"text-align: right;\">\n",
       "      <th></th>\n",
       "      <th>id</th>\n",
       "      <th>betweeness</th>\n",
       "      <th>Degree</th>\n",
       "      <th>eigenvector</th>\n",
       "      <th>closeness</th>\n",
       "      <th>Modularity</th>\n",
       "    </tr>\n",
       "  </thead>\n",
       "  <tbody>\n",
       "    <tr>\n",
       "      <th>0</th>\n",
       "      <td>27803</td>\n",
       "      <td>0.953231</td>\n",
       "      <td>39</td>\n",
       "      <td>0.703033</td>\n",
       "      <td>0.830508</td>\n",
       "      <td>0</td>\n",
       "    </tr>\n",
       "    <tr>\n",
       "      <th>1</th>\n",
       "      <td>21142</td>\n",
       "      <td>0.369898</td>\n",
       "      <td>11</td>\n",
       "      <td>0.150289</td>\n",
       "      <td>0.563218</td>\n",
       "      <td>1</td>\n",
       "    </tr>\n",
       "    <tr>\n",
       "      <th>2</th>\n",
       "      <td>3153</td>\n",
       "      <td>0.000000</td>\n",
       "      <td>1</td>\n",
       "      <td>0.023961</td>\n",
       "      <td>0.362963</td>\n",
       "      <td>1</td>\n",
       "    </tr>\n",
       "    <tr>\n",
       "      <th>3</th>\n",
       "      <td>5629</td>\n",
       "      <td>0.000000</td>\n",
       "      <td>1</td>\n",
       "      <td>0.023961</td>\n",
       "      <td>0.362963</td>\n",
       "      <td>1</td>\n",
       "    </tr>\n",
       "    <tr>\n",
       "      <th>4</th>\n",
       "      <td>10001</td>\n",
       "      <td>0.000000</td>\n",
       "      <td>1</td>\n",
       "      <td>0.023961</td>\n",
       "      <td>0.362963</td>\n",
       "      <td>1</td>\n",
       "    </tr>\n",
       "    <tr>\n",
       "      <th>5</th>\n",
       "      <td>11279</td>\n",
       "      <td>0.000000</td>\n",
       "      <td>1</td>\n",
       "      <td>0.023961</td>\n",
       "      <td>0.362963</td>\n",
       "      <td>1</td>\n",
       "    </tr>\n",
       "    <tr>\n",
       "      <th>6</th>\n",
       "      <td>19222</td>\n",
       "      <td>0.000000</td>\n",
       "      <td>1</td>\n",
       "      <td>0.023961</td>\n",
       "      <td>0.362963</td>\n",
       "      <td>1</td>\n",
       "    </tr>\n",
       "    <tr>\n",
       "      <th>7</th>\n",
       "      <td>3712</td>\n",
       "      <td>0.000000</td>\n",
       "      <td>1</td>\n",
       "      <td>0.023961</td>\n",
       "      <td>0.362963</td>\n",
       "      <td>1</td>\n",
       "    </tr>\n",
       "    <tr>\n",
       "      <th>8</th>\n",
       "      <td>31890</td>\n",
       "      <td>0.000000</td>\n",
       "      <td>1</td>\n",
       "      <td>0.023961</td>\n",
       "      <td>0.362963</td>\n",
       "      <td>1</td>\n",
       "    </tr>\n",
       "    <tr>\n",
       "      <th>9</th>\n",
       "      <td>30002</td>\n",
       "      <td>0.000000</td>\n",
       "      <td>1</td>\n",
       "      <td>0.023961</td>\n",
       "      <td>0.362963</td>\n",
       "      <td>1</td>\n",
       "    </tr>\n",
       "    <tr>\n",
       "      <th>10</th>\n",
       "      <td>36628</td>\n",
       "      <td>0.000000</td>\n",
       "      <td>1</td>\n",
       "      <td>0.023961</td>\n",
       "      <td>0.362963</td>\n",
       "      <td>1</td>\n",
       "    </tr>\n",
       "    <tr>\n",
       "      <th>11</th>\n",
       "      <td>22881</td>\n",
       "      <td>0.000000</td>\n",
       "      <td>1</td>\n",
       "      <td>0.023961</td>\n",
       "      <td>0.362963</td>\n",
       "      <td>1</td>\n",
       "    </tr>\n",
       "    <tr>\n",
       "      <th>12</th>\n",
       "      <td>974</td>\n",
       "      <td>0.000000</td>\n",
       "      <td>1</td>\n",
       "      <td>0.112087</td>\n",
       "      <td>0.457944</td>\n",
       "      <td>0</td>\n",
       "    </tr>\n",
       "    <tr>\n",
       "      <th>13</th>\n",
       "      <td>22642</td>\n",
       "      <td>0.000000</td>\n",
       "      <td>1</td>\n",
       "      <td>0.112087</td>\n",
       "      <td>0.457944</td>\n",
       "      <td>0</td>\n",
       "    </tr>\n",
       "    <tr>\n",
       "      <th>14</th>\n",
       "      <td>19253</td>\n",
       "      <td>0.000000</td>\n",
       "      <td>1</td>\n",
       "      <td>0.112087</td>\n",
       "      <td>0.457944</td>\n",
       "      <td>0</td>\n",
       "    </tr>\n",
       "    <tr>\n",
       "      <th>15</th>\n",
       "      <td>10080</td>\n",
       "      <td>0.000000</td>\n",
       "      <td>1</td>\n",
       "      <td>0.112087</td>\n",
       "      <td>0.457944</td>\n",
       "      <td>0</td>\n",
       "    </tr>\n",
       "    <tr>\n",
       "      <th>16</th>\n",
       "      <td>18945</td>\n",
       "      <td>0.000000</td>\n",
       "      <td>1</td>\n",
       "      <td>0.112087</td>\n",
       "      <td>0.457944</td>\n",
       "      <td>0</td>\n",
       "    </tr>\n",
       "    <tr>\n",
       "      <th>17</th>\n",
       "      <td>28957</td>\n",
       "      <td>0.000000</td>\n",
       "      <td>1</td>\n",
       "      <td>0.112087</td>\n",
       "      <td>0.457944</td>\n",
       "      <td>0</td>\n",
       "    </tr>\n",
       "    <tr>\n",
       "      <th>18</th>\n",
       "      <td>10595</td>\n",
       "      <td>0.000000</td>\n",
       "      <td>1</td>\n",
       "      <td>0.112087</td>\n",
       "      <td>0.457944</td>\n",
       "      <td>0</td>\n",
       "    </tr>\n",
       "    <tr>\n",
       "      <th>19</th>\n",
       "      <td>10830</td>\n",
       "      <td>0.000000</td>\n",
       "      <td>1</td>\n",
       "      <td>0.112087</td>\n",
       "      <td>0.457944</td>\n",
       "      <td>0</td>\n",
       "    </tr>\n",
       "  </tbody>\n",
       "</table>\n",
       "</div>"
      ],
      "text/plain": [
       "       id  betweeness  Degree  eigenvector  closeness  Modularity\n",
       "0   27803    0.953231      39     0.703033   0.830508           0\n",
       "1   21142    0.369898      11     0.150289   0.563218           1\n",
       "2    3153    0.000000       1     0.023961   0.362963           1\n",
       "3    5629    0.000000       1     0.023961   0.362963           1\n",
       "4   10001    0.000000       1     0.023961   0.362963           1\n",
       "5   11279    0.000000       1     0.023961   0.362963           1\n",
       "6   19222    0.000000       1     0.023961   0.362963           1\n",
       "7    3712    0.000000       1     0.023961   0.362963           1\n",
       "8   31890    0.000000       1     0.023961   0.362963           1\n",
       "9   30002    0.000000       1     0.023961   0.362963           1\n",
       "10  36628    0.000000       1     0.023961   0.362963           1\n",
       "11  22881    0.000000       1     0.023961   0.362963           1\n",
       "12    974    0.000000       1     0.112087   0.457944           0\n",
       "13  22642    0.000000       1     0.112087   0.457944           0\n",
       "14  19253    0.000000       1     0.112087   0.457944           0\n",
       "15  10080    0.000000       1     0.112087   0.457944           0\n",
       "16  18945    0.000000       1     0.112087   0.457944           0\n",
       "17  28957    0.000000       1     0.112087   0.457944           0\n",
       "18  10595    0.000000       1     0.112087   0.457944           0\n",
       "19  10830    0.000000       1     0.112087   0.457944           0"
      ]
     },
     "execution_count": 347,
     "metadata": {},
     "output_type": "execute_result"
    }
   ],
   "source": [
    "communities, modularity = community_detection(prune_nx)\n",
    "degree, betweenness, clo, eig = compute_metrics(prune_nx)\n",
    "metrics = {'degree': degree, 'betweeness': betweenness, 'closeness': clo, 'eigenvector': eig, 'modularity': modularity}\n",
    "prune_nx = set_attributes(prune_nx, **metrics)\n",
    "metrics = top_betweeness_nodes_with_attributes(prune_nx, top_n=40)\n",
    "metrics.head(20)"
   ]
  },
  {
   "cell_type": "markdown",
   "id": "1fa729d3",
   "metadata": {},
   "source": [
    "check out who these top 3 people are by joining on target df\n"
   ]
  },
  {
   "cell_type": "code",
   "execution_count": 348,
   "id": "mental-mother",
   "metadata": {},
   "outputs": [
    {
     "name": "stdout",
     "output_type": "stream",
     "text": [
      "Shortest path between user1 and user2: [27803, 9051]\n"
     ]
    },
    {
     "data": {
      "image/png": "[encoded data removed]",
      "text/plain": [
       "<Figure size 432x288 with 1 Axes>"
      ]
     },
     "metadata": {
      "needs_background": "light"
     },
     "output_type": "display_data"
    }
   ],
   "source": [
    "\n",
    "shortest = shortest_path(prune_nx, source_id=27803, target_id=9051)\n",
    "community_count = plot_community_class_count(communities)"
   ]
  },
  {
   "cell_type": "code",
   "execution_count": 351,
   "id": "a6e5f8d1",
   "metadata": {},
   "outputs": [
    {
     "data": {
      "text/html": [
       "<div>\n",
       "<style scoped>\n",
       "    .dataframe tbody tr th:only-of-type {\n",
       "        vertical-align: middle;\n",
       "    }\n",
       "\n",
       "    .dataframe tbody tr th {\n",
       "        vertical-align: top;\n",
       "    }\n",
       "\n",
       "    .dataframe thead th {\n",
       "        text-align: right;\n",
       "    }\n",
       "</style>\n",
       "<table border=\"1\" class=\"dataframe\">\n",
       "  <thead>\n",
       "    <tr style=\"text-align: right;\">\n",
       "      <th></th>\n",
       "      <th>id</th>\n",
       "      <th>name</th>\n",
       "      <th>ml_target</th>\n",
       "    </tr>\n",
       "  </thead>\n",
       "  <tbody>\n",
       "    <tr>\n",
       "      <th>0</th>\n",
       "      <td>27803</td>\n",
       "      <td>nfultz</td>\n",
       "      <td>0</td>\n",
       "    </tr>\n",
       "    <tr>\n",
       "      <th>1</th>\n",
       "      <td>21142</td>\n",
       "      <td>fengmk2</td>\n",
       "      <td>0</td>\n",
       "    </tr>\n",
       "    <tr>\n",
       "      <th>2</th>\n",
       "      <td>3153</td>\n",
       "      <td>sorrycc</td>\n",
       "      <td>0</td>\n",
       "    </tr>\n",
       "  </tbody>\n",
       "</table>\n",
       "</div>"
      ],
      "text/plain": [
       "      id     name  ml_target\n",
       "0  27803   nfultz          0\n",
       "1  21142  fengmk2          0\n",
       "2   3153  sorrycc          0"
      ]
     },
     "execution_count": 351,
     "metadata": {},
     "output_type": "execute_result"
    }
   ],
   "source": [
    "top_nodes_labels = metrics.iloc[0:3, :].merge(df_target, on='id')[['id', 'name', 'ml_target']]\n",
    "top_nodes_labels"
   ]
  },
  {
   "cell_type": "markdown",
   "id": "3afb929c",
   "metadata": {},
   "source": [
    "#### subgraph with commuity groups "
   ]
  },
  {
   "cell_type": "code",
   "execution_count": 399,
   "id": "59f21fe4",
   "metadata": {},
   "outputs": [
    {
     "name": "stdout",
     "output_type": "stream",
     "text": [
      "<generator object connected_components at 0x7fbbeb95f9e0>\n",
      "Network diameter of largest component: 3\n"
     ]
    },
    {
     "data": {
      "text/html": [
       "\n",
       "        <iframe\n",
       "            width=\"100%\"\n",
       "            height=\"750px\"\n",
       "            src=\"outputs/subgraph.html\"\n",
       "            frameborder=\"0\"\n",
       "            allowfullscreen\n",
       "            \n",
       "        ></iframe>\n",
       "        "
      ],
      "text/plain": [
       "<IPython.lib.display.IFrame at 0x7fbbcb2b5c40>"
      ]
     },
     "execution_count": 399,
     "metadata": {},
     "output_type": "execute_result"
    }
   ],
   "source": [
    "\n",
    "components, largest_component = connected_components(prune_nx)\n",
    "nt = plot_subgraph(prune_nx, largest_component)\n",
    "mapper = {0:'red', 1: 'yellow', 2: 'green', 3:'orange', 4: 'brown', 5: 'purple', 6:'pink'}\n",
    "\n",
    "node_id_list = list(metrics['id'].values)\n",
    "\n",
    "for node in nt.nodes:\n",
    "    if node['id'] in node_id_list:\n",
    "        mod = metrics.loc[metrics['id']== node['id'], 'Modularity'].values[0]\n",
    "        node['color'] = mapper[mod]\n",
    "        \n",
    "nt.show('outputs/subgraph.html')"
   ]
  },
  {
   "cell_type": "markdown",
   "id": "94a58cb3",
   "metadata": {},
   "source": [
    "\n",
    "#### Ego Network\n",
    "\n",
    "pick node with highest betweeness centrality and plot ego network with radius 2 "
   ]
  },
  {
   "cell_type": "code",
   "execution_count": 400,
   "id": "pleased-mistake",
   "metadata": {
    "scrolled": false
   },
   "outputs": [
    {
     "data": {
      "text/html": [
       "\n",
       "        <iframe\n",
       "            width=\"100%\"\n",
       "            height=\"750px\"\n",
       "            src=\"outputs/ego.html\"\n",
       "            frameborder=\"0\"\n",
       "            allowfullscreen\n",
       "            \n",
       "        ></iframe>\n",
       "        "
      ],
      "text/plain": [
       "<IPython.lib.display.IFrame at 0x7fbbbf1a0760>"
      ]
     },
     "execution_count": 400,
     "metadata": {},
     "output_type": "execute_result"
    }
   ],
   "source": [
    "node_id = 27803\n",
    "\n",
    "nt = plot_ego_network(prune_nx, node_id, radius = 1)\n",
    "for node in nt.nodes:\n",
    "    if node['id'] == node_id:\n",
    "        mod = metrics.loc[metrics['id']== node['id'], 'Modularity'].values[0]\n",
    "        node['color'] = mapper[mod]\n",
    "nt.show('outputs/ego.html')"
   ]
  },
  {
   "cell_type": "markdown",
   "id": "cdf56070",
   "metadata": {},
   "source": [
    "#### Node2vec Embeddings on Movie Lens dataset \n",
    "\n"
   ]
  },
  {
   "cell_type": "markdown",
   "id": "9ffc1882",
   "metadata": {},
   "source": [
    "The Node2Vec algorithm is a method for learning continuous feature representations for nodes in networks. This approach can simply be described as a mapping of nodes to a low dimensional space of features that maximizes the likelihood of persevering neighborhood structure of the nodes. This approach is not tied to a fixed definition of neighborhood of a node but can be used in conjunction with different notions of node neighborhood, such as, homophily or structural equivalence, among other concepts. The algorithm efficiently explores diverse neighborhoods of nodes through a biased random walk procedure that is parametrized to emulate a specific concept of the neighborhood of a node.\n",
    "\n",
    "Once a predefined number of walks, of fixed lengths, have been sampled, the low dimension embedding vectors of nodes can be learnt using Word2vec algorithm. We use the Word2Vec implementation in the free Python library Gensim to learn representations for each node in the graph."
   ]
  },
  {
   "cell_type": "code",
   "execution_count": 389,
   "id": "4f3c0197",
   "metadata": {},
   "outputs": [],
   "source": [
    "import matplotlib.pyplot as plt\n",
    "\n",
    "from sklearn.manifold import TSNE\n",
    "from sklearn.model_selection import train_test_split\n",
    "from sklearn.linear_model import LogisticRegressionCV\n",
    "from sklearn.metrics import accuracy_score\n",
    "\n",
    "import os\n",
    "import networkx as nx\n",
    "import numpy as np\n",
    "import pandas as pd\n",
    "\n",
    "from stellargraph.data import BiasedRandomWalk\n",
    "from stellargraph import StellarGraph\n",
    "from stellargraph import datasets\n",
    "from IPython.display import display, HTML\n",
    "\n",
    "%matplotlib inline"
   ]
  },
  {
   "cell_type": "markdown",
   "id": "dfe9fe74",
   "metadata": {},
   "source": [
    "\n",
    "\n",
    "#### Implement the biased random walk\n",
    "A random walk starts from a given node, and randomly picks a neighbour node to move to.\n",
    "If the edges are weighted, the neighbour is selected *probabilistically* with\n",
    "respect to weights of the edges between the current node and its neighbours.\n",
    "This procedure is repeated for `num_steps` to generate a sequence of *related* nodes.\n",
    "The [*biased* random walk](https://en.wikipedia.org/wiki/Biased_random_walk_on_a_graph) balances between **breadth-first sampling**\n",
    "(where only local neighbours are visited) and **depth-first sampling**\n",
    "(where  distant neighbours are visited) by introducing the following two parameters:\n",
    "1. **Return parameter** (`p`): Controls the likelihood of immediately revisiting\n",
    "a node in the walk. Setting it to a high value encourages moderate exploration,\n",
    "while setting it to a low value would keep the walk local.\n",
    "2. **In-out parameter** (`q`): Allows the search to differentiate\n",
    "between *inward* and *outward* nodes. Setting it to a high value biases the\n",
    "random walk towards local nodes, while setting it to a low value biases the walk\n",
    "to visit nodes which are further away.\n",
    "\"\"\"\n"
   ]
  },
  {
   "cell_type": "code",
   "execution_count": 390,
   "id": "0c88afab",
   "metadata": {},
   "outputs": [
    {
     "name": "stdout",
     "output_type": "stream",
     "text": [
      "Movies data shape: (9742, 3)\n",
      "Ratings data shape: (100836, 4)\n"
     ]
    },
    {
     "data": {
      "text/html": [
       "<div>\n",
       "<style scoped>\n",
       "    .dataframe tbody tr th:only-of-type {\n",
       "        vertical-align: middle;\n",
       "    }\n",
       "\n",
       "    .dataframe tbody tr th {\n",
       "        vertical-align: top;\n",
       "    }\n",
       "\n",
       "    .dataframe thead th {\n",
       "        text-align: right;\n",
       "    }\n",
       "</style>\n",
       "<table border=\"1\" class=\"dataframe\">\n",
       "  <thead>\n",
       "    <tr style=\"text-align: right;\">\n",
       "      <th></th>\n",
       "      <th>userId</th>\n",
       "      <th>movieId</th>\n",
       "      <th>rating</th>\n",
       "      <th>timestamp</th>\n",
       "      <th>title</th>\n",
       "      <th>genres</th>\n",
       "    </tr>\n",
       "  </thead>\n",
       "  <tbody>\n",
       "    <tr>\n",
       "      <th>0</th>\n",
       "      <td>1</td>\n",
       "      <td>movie_1</td>\n",
       "      <td>4.0</td>\n",
       "      <td>964982703</td>\n",
       "      <td>Toy Story (1995)</td>\n",
       "      <td>Fantasy</td>\n",
       "    </tr>\n",
       "    <tr>\n",
       "      <th>1</th>\n",
       "      <td>5</td>\n",
       "      <td>movie_1</td>\n",
       "      <td>4.0</td>\n",
       "      <td>847434962</td>\n",
       "      <td>Toy Story (1995)</td>\n",
       "      <td>Fantasy</td>\n",
       "    </tr>\n",
       "    <tr>\n",
       "      <th>2</th>\n",
       "      <td>7</td>\n",
       "      <td>movie_1</td>\n",
       "      <td>4.5</td>\n",
       "      <td>1106635946</td>\n",
       "      <td>Toy Story (1995)</td>\n",
       "      <td>Fantasy</td>\n",
       "    </tr>\n",
       "    <tr>\n",
       "      <th>3</th>\n",
       "      <td>15</td>\n",
       "      <td>movie_1</td>\n",
       "      <td>2.5</td>\n",
       "      <td>1510577970</td>\n",
       "      <td>Toy Story (1995)</td>\n",
       "      <td>Fantasy</td>\n",
       "    </tr>\n",
       "    <tr>\n",
       "      <th>4</th>\n",
       "      <td>17</td>\n",
       "      <td>movie_1</td>\n",
       "      <td>4.5</td>\n",
       "      <td>1305696483</td>\n",
       "      <td>Toy Story (1995)</td>\n",
       "      <td>Fantasy</td>\n",
       "    </tr>\n",
       "    <tr>\n",
       "      <th>...</th>\n",
       "      <td>...</td>\n",
       "      <td>...</td>\n",
       "      <td>...</td>\n",
       "      <td>...</td>\n",
       "      <td>...</td>\n",
       "      <td>...</td>\n",
       "    </tr>\n",
       "    <tr>\n",
       "      <th>100831</th>\n",
       "      <td>610</td>\n",
       "      <td>movie_160341</td>\n",
       "      <td>2.5</td>\n",
       "      <td>1479545749</td>\n",
       "      <td>Bloodmoon (1997)</td>\n",
       "      <td>Thriller</td>\n",
       "    </tr>\n",
       "    <tr>\n",
       "      <th>100832</th>\n",
       "      <td>610</td>\n",
       "      <td>movie_160527</td>\n",
       "      <td>4.5</td>\n",
       "      <td>1479544998</td>\n",
       "      <td>Sympathy for the Underdog (1971)</td>\n",
       "      <td>Drama</td>\n",
       "    </tr>\n",
       "    <tr>\n",
       "      <th>100833</th>\n",
       "      <td>610</td>\n",
       "      <td>movie_160836</td>\n",
       "      <td>3.0</td>\n",
       "      <td>1493844794</td>\n",
       "      <td>Hazard (2005)</td>\n",
       "      <td>Thriller</td>\n",
       "    </tr>\n",
       "    <tr>\n",
       "      <th>100834</th>\n",
       "      <td>610</td>\n",
       "      <td>movie_163937</td>\n",
       "      <td>3.5</td>\n",
       "      <td>1493848789</td>\n",
       "      <td>Blair Witch (2016)</td>\n",
       "      <td>Thriller</td>\n",
       "    </tr>\n",
       "    <tr>\n",
       "      <th>100835</th>\n",
       "      <td>610</td>\n",
       "      <td>movie_163981</td>\n",
       "      <td>3.5</td>\n",
       "      <td>1493850155</td>\n",
       "      <td>31 (2016)</td>\n",
       "      <td>Horror</td>\n",
       "    </tr>\n",
       "  </tbody>\n",
       "</table>\n",
       "<p>100836 rows × 6 columns</p>\n",
       "</div>"
      ],
      "text/plain": [
       "        userId       movieId  rating   timestamp  \\\n",
       "0            1       movie_1     4.0   964982703   \n",
       "1            5       movie_1     4.0   847434962   \n",
       "2            7       movie_1     4.5  1106635946   \n",
       "3           15       movie_1     2.5  1510577970   \n",
       "4           17       movie_1     4.5  1305696483   \n",
       "...        ...           ...     ...         ...   \n",
       "100831     610  movie_160341     2.5  1479545749   \n",
       "100832     610  movie_160527     4.5  1479544998   \n",
       "100833     610  movie_160836     3.0  1493844794   \n",
       "100834     610  movie_163937     3.5  1493848789   \n",
       "100835     610  movie_163981     3.5  1493850155   \n",
       "\n",
       "                                   title    genres  \n",
       "0                       Toy Story (1995)   Fantasy  \n",
       "1                       Toy Story (1995)   Fantasy  \n",
       "2                       Toy Story (1995)   Fantasy  \n",
       "3                       Toy Story (1995)   Fantasy  \n",
       "4                       Toy Story (1995)   Fantasy  \n",
       "...                                  ...       ...  \n",
       "100831                  Bloodmoon (1997)  Thriller  \n",
       "100832  Sympathy for the Underdog (1971)     Drama  \n",
       "100833                     Hazard (2005)  Thriller  \n",
       "100834                Blair Witch (2016)  Thriller  \n",
       "100835                         31 (2016)    Horror  \n",
       "\n",
       "[100836 rows x 6 columns]"
      ]
     },
     "execution_count": 390,
     "metadata": {},
     "output_type": "execute_result"
    }
   ],
   "source": [
    "from zipfile import ZipFile\n",
    "from urllib.request import urlretrieve\n",
    "\n",
    "urlretrieve(\n",
    "    \"http://files.grouplens.org/datasets/movielens/ml-latest-small.zip\", \"movielens.zip\"\n",
    ")\n",
    "ZipFile(\"movielens.zip\", \"r\").extractall()\n",
    "\n",
    "\n",
    "# Load movies to a DataFrame.\n",
    "movies = pd.read_csv(\"ml-latest-small/movies.csv\")\n",
    "# Create a `movieId` string.\n",
    "movies[\"movieId\"] = movies[\"movieId\"].apply(lambda x: f\"movie_{x}\")\n",
    "\n",
    "# Load ratings to a DataFrame.\n",
    "ratings = pd.read_csv(\"ml-latest-small/ratings.csv\")\n",
    "# Convert the `ratings` to floating point\n",
    "ratings[\"rating\"] = ratings[\"rating\"].apply(lambda x: float(x))\n",
    "# Create the `movie_id` string.\n",
    "ratings[\"movieId\"] = ratings[\"movieId\"].apply(lambda x: f\"movie_{x}\")\n",
    "\n",
    "print(\"Movies data shape:\", movies.shape)\n",
    "print(\"Ratings data shape:\", ratings.shape)\n",
    "\n",
    "full_df = ratings.merge(movies, how='inner', on='movieId')\n",
    "full_df['genres'] = full_df['genres'].map(lambda x: x.strip().split('|')[-1])\n",
    "full_df"
   ]
  },
  {
   "cell_type": "code",
   "execution_count": 356,
   "id": "ae6dc39d",
   "metadata": {},
   "outputs": [],
   "source": [
    "label_map = full_df.loc[:, ['title', 'genres']].set_index('title')['genres'].to_dict()\n",
    "\n"
   ]
  },
  {
   "cell_type": "code",
   "execution_count": 391,
   "id": "9fd0ed28",
   "metadata": {},
   "outputs": [
    {
     "name": "stderr",
     "output_type": "stream",
     "text": [
      "Compute movie rating frequencies: 100%|█████| 573/573 [00:00<00:00, 1354.49it/s]\n"
     ]
    }
   ],
   "source": [
    "\n",
    "from collections import defaultdict\n",
    "from tqdm import tqdm\n",
    "\n",
    "min_rating = 5\n",
    "pair_frequency = defaultdict(int)\n",
    "item_frequency = defaultdict(int)\n",
    "\n",
    "\n",
    "# Filter instances where rating is greater than or equal to min_rating.\n",
    "rated_movies = full_df[full_df.rating >= min_rating]\n",
    "# Group instances by user.\n",
    "movies_grouped_by_users = list(rated_movies.groupby(\"userId\"))\n",
    "for group in tqdm(\n",
    "    movies_grouped_by_users,\n",
    "    position=0,\n",
    "    leave=True,\n",
    "    desc=\"Compute movie rating frequencies\",\n",
    "):\n",
    "    # Get a list of movies rated by the user.\n",
    "    current_movies = list(group[1][\"title\"])\n",
    "\n",
    "    for i in range(len(current_movies)):\n",
    "        item_frequency[current_movies[i]] += 1\n",
    "        for j in range(i + 1, len(current_movies)):\n",
    "            x = min(current_movies[i], current_movies[j])\n",
    "            y = max(current_movies[i], current_movies[j])\n",
    "            pair_frequency[(x, y)] += 1"
   ]
  },
  {
   "cell_type": "code",
   "execution_count": 392,
   "id": "0ac2011b",
   "metadata": {},
   "outputs": [
    {
     "name": "stderr",
     "output_type": "stream",
     "text": [
      "Creating the movie graph: 100%|█████| 298586/298586 [00:00<00:00, 822181.25it/s]\n"
     ]
    }
   ],
   "source": [
    "import math\n",
    "\n",
    "min_weight = 60\n",
    "D = math.log(sum(item_frequency.values()))\n",
    "\n",
    "# Create the movies undirected graph.\n",
    "G = nx.Graph()\n",
    "# Add weighted edges between movies.\n",
    "# This automatically adds the movie nodes to the graph.\n",
    "for pair in tqdm(\n",
    "    pair_frequency, position=0, leave=True, desc=\"Creating the movie graph\"\n",
    "):\n",
    "    x, y = pair\n",
    "    xy_frequency = pair_frequency[pair]\n",
    "    x_frequency = item_frequency[x]\n",
    "    y_frequency = item_frequency[y]\n",
    "    pmi = math.log(xy_frequency) - math.log(x_frequency) - math.log(y_frequency) + D\n",
    "    weight = pmi * xy_frequency\n",
    "    # Only include edges with weight >= min_weight.\n",
    "    if weight >= min_weight:\n",
    "        G.add_edge(x, y, weight=weight)"
   ]
  },
  {
   "cell_type": "code",
   "execution_count": 393,
   "id": "1db39051",
   "metadata": {},
   "outputs": [
    {
     "name": "stdout",
     "output_type": "stream",
     "text": [
      "Total number of graph nodes: 98\n",
      "Total number of graph edges: 446\n"
     ]
    }
   ],
   "source": [
    "print(\"Total number of graph nodes:\", movies_graph.number_of_nodes())\n",
    "print(\"Total number of graph edges:\", movies_graph.number_of_edges())"
   ]
  },
  {
   "cell_type": "markdown",
   "id": "875fad8c",
   "metadata": {},
   "source": [
    "##### Bridges"
   ]
  },
  {
   "cell_type": "code",
   "execution_count": 398,
   "id": "7f500011",
   "metadata": {},
   "outputs": [
    {
     "data": {
      "image/png": "[encoded data removed]",
      "text/plain": [
       "<Figure size 576x576 with 1 Axes>"
      ]
     },
     "metadata": {},
     "output_type": "display_data"
    }
   ],
   "source": [
    "\n",
    "\n",
    "\n",
    "bridges, edgecolor = create_bridge_network(G)\n",
    "\n",
    "plt.figure(figsize=(8,8))\n",
    "nx.draw_kamada_kawai(G, node_size=70, edge_color=edgecolor, arrowsize=5)"
   ]
  },
  {
   "cell_type": "code",
   "execution_count": 361,
   "id": "3e1779d4",
   "metadata": {},
   "outputs": [
    {
     "data": {
      "image/png": "[encoded data removed]",
      "text/plain": [
       "<Figure size 432x288 with 1 Axes>"
      ]
     },
     "metadata": {
      "needs_background": "light"
     },
     "output_type": "display_data"
    }
   ],
   "source": [
    "weights = []\n",
    "\n",
    "for i in range(len(movies_graph.edges)):\n",
    "    weights.append(list((list(movies_graph.edges(data=True))[i][2].values()))[0])\n",
    "\n",
    "plt.title(\"Edge weights histogram\")\n",
    "plt.hist(weights)\n",
    "plt.title(\"Edge weights histogram\")\n",
    "plt.ylabel(\"Count\")\n",
    "plt.xlabel(\"edge weights\")\n",
    "plt.show()\n"
   ]
  },
  {
   "cell_type": "code",
   "execution_count": 362,
   "id": "135f0f56",
   "metadata": {
    "scrolled": false
   },
   "outputs": [
    {
     "data": {
      "text/html": [
       "\n",
       "        <iframe\n",
       "            width=\"100%\"\n",
       "            height=\"750px\"\n",
       "            src=\"outputs/movie_graph.html\"\n",
       "            frameborder=\"0\"\n",
       "            allowfullscreen\n",
       "            \n",
       "        ></iframe>\n",
       "        "
      ],
      "text/plain": [
       "<IPython.lib.display.IFrame at 0x7fbbfe4249a0>"
      ]
     },
     "execution_count": 362,
     "metadata": {},
     "output_type": "execute_result"
    }
   ],
   "source": [
    "nt= draw_network(movies_graph, config=None)\n",
    "nt.show('outputs/movie_graph.html')"
   ]
  },
  {
   "cell_type": "code",
   "execution_count": 377,
   "id": "fa6f90bd",
   "metadata": {
    "scrolled": true
   },
   "outputs": [
    {
     "name": "stdout",
     "output_type": "stream",
     "text": [
      "Average node degree: 9.1\n"
     ]
    }
   ],
   "source": [
    "degrees = []\n",
    "for node in movies_graph.nodes:\n",
    "    degrees.append(movies_graph.degree[node])\n",
    "\n",
    "print(\"Average node degree:\", round(sum(degrees) / len(degrees), 2))"
   ]
  },
  {
   "cell_type": "code",
   "execution_count": 378,
   "id": "78f4f6d9",
   "metadata": {},
   "outputs": [
    {
     "name": "stdout",
     "output_type": "stream",
     "text": [
      "Number of random walks: 980\n"
     ]
    }
   ],
   "source": [
    "from stellargraph import StellarGraph\n",
    "from stellargraph.data import BiasedRandomWalk\n",
    "from stellargraph import StellarGraph\n",
    "from gensim.models import Word2Vec\n",
    "\n",
    "G= StellarGraph.from_networkx(movies_graph)\n",
    "rw = BiasedRandomWalk(G)\n",
    "\n",
    "walks = rw.run(\n",
    "    nodes=list(G.nodes()),  # root nodes\n",
    "    length=100,  # maximum length of a random walk\n",
    "    n=10,  # number of random walks per root node\n",
    "    p=0.5,  # Defines (unormalised) probability, 1/p, of returning to source node\n",
    "    q=2.0,  # Defines (unormalised) probability, 1/q, for moving away from source node\n",
    ")\n",
    "print(\"Number of random walks: {}\".format(len(walks)))"
   ]
  },
  {
   "cell_type": "code",
   "execution_count": 379,
   "id": "9131574c",
   "metadata": {},
   "outputs": [
    {
     "data": {
      "text/plain": [
       "array([[ 0.093437  ,  0.05432752,  0.08226734, ...,  0.01974924,\n",
       "        -0.07006274, -0.02105042],\n",
       "       [ 0.05610358,  0.03922865,  0.07556939, ...,  0.05641441,\n",
       "        -0.08490968, -0.00452363],\n",
       "       [ 0.06597364,  0.03534111,  0.07974451, ...,  0.03707861,\n",
       "        -0.09125711,  0.01709468],\n",
       "       ...,\n",
       "       [ 0.05328187,  0.04021085,  0.08423054, ...,  0.01614701,\n",
       "        -0.07279991, -0.02049792],\n",
       "       [ 0.01740944,  0.02556419,  0.07633385, ...,  0.02541122,\n",
       "        -0.08965582, -0.00533433],\n",
       "       [ 0.06929216,  0.04798625,  0.07827598, ..., -0.00855811,\n",
       "        -0.06184783, -0.0233797 ]], dtype=float32)"
      ]
     },
     "execution_count": 379,
     "metadata": {},
     "output_type": "execute_result"
    }
   ],
   "source": [
    "model = Word2Vec(\n",
    "walks, vector_size=500, window=5, min_count=0, sg=1, workers=1, epochs=1\n",
    ")\n",
    "# The embedding vectors can be retrieved from model.wv using the node ID as key.\n",
    "node_embeddings = model.wv.vectors\n",
    "node_embeddings"
   ]
  },
  {
   "cell_type": "code",
   "execution_count": 380,
   "id": "8a79db61",
   "metadata": {},
   "outputs": [],
   "source": [
    "node_ids = model.wv.index_to_key  # list of node IDs\n",
    "node_targets = [label_map[node] for node in node_ids]\n",
    "\n",
    "node_targets = pd.Series(node_targets).astype('category') \n",
    "node_col = node_targets.cat.codes"
   ]
  },
  {
   "cell_type": "code",
   "execution_count": 381,
   "id": "77d6cfaa",
   "metadata": {},
   "outputs": [
    {
     "name": "stderr",
     "output_type": "stream",
     "text": [
      "/Users/rk1103/opt/miniconda3/envs/net/lib/python3.8/site-packages/sklearn/manifold/_t_sne.py:780: FutureWarning: The default initialization in TSNE will change from 'random' to 'pca' in 1.2.\n",
      "  warnings.warn(\n",
      "/Users/rk1103/opt/miniconda3/envs/net/lib/python3.8/site-packages/sklearn/manifold/_t_sne.py:790: FutureWarning: The default learning rate in TSNE will change from 200.0 to 'auto' in 1.2.\n",
      "  warnings.warn(\n"
     ]
    }
   ],
   "source": [
    "# Apply t-SNE transformation on node embeddings\n",
    "tsne = TSNE(n_components=2)\n",
    "node_embeddings_2d = tsne.fit_transform(node_embeddings)"
   ]
  },
  {
   "cell_type": "code",
   "execution_count": 401,
   "id": "82a48be1",
   "metadata": {
    "scrolled": false
   },
   "outputs": [
    {
     "name": "stderr",
     "output_type": "stream",
     "text": [
      "No handles with labels found to put in legend.\n"
     ]
    },
    {
     "data": {
      "text/plain": [
       "<matplotlib.legend.Legend at 0x7fbbbf18cca0>"
      ]
     },
     "execution_count": 401,
     "metadata": {},
     "output_type": "execute_result"
    },
    {
     "data": {
      "image/png": "[encoded data removed]",
      "text/plain": [
       "<Figure size 720x720 with 1 Axes>"
      ]
     },
     "metadata": {
      "needs_background": "light"
     },
     "output_type": "display_data"
    }
   ],
   "source": [
    "# draw the points\n",
    "alpha = 0.7\n",
    "#label_map = {l: i for i, l in enumerate(np.unique(node_targets))}\n",
    "#node_colours = [label_map[target] for target in node3_targets]\n",
    "\n",
    "plt.figure(figsize=(10,10))\n",
    "plt.scatter(\n",
    "    node_embeddings_2d[:, 0],\n",
    "    node_embeddings_2d[:, 1],\n",
    "    c=node_col,\n",
    "    alpha=alpha,\n",
    ")\n",
    "plt.legend()"
   ]
  },
  {
   "cell_type": "code",
   "execution_count": 383,
   "id": "8fe02364",
   "metadata": {},
   "outputs": [
    {
     "data": {
      "text/plain": [
       "0     Thriller\n",
       "1     Thriller\n",
       "2       Sci-Fi\n",
       "3       Sci-Fi\n",
       "4        Drama\n",
       "        ...   \n",
       "93         War\n",
       "94       Crime\n",
       "95       Crime\n",
       "96        IMAX\n",
       "97      Comedy\n",
       "Length: 98, dtype: category\n",
       "Categories (14, object): ['Adventure', 'Comedy', 'Crime', 'Drama', ..., 'Sci-Fi', 'Thriller', 'War', 'Western']"
      ]
     },
     "execution_count": 383,
     "metadata": {},
     "output_type": "execute_result"
    }
   ],
   "source": [
    "node_targets"
   ]
  }
 ],
 "metadata": {
  "kernelspec": {
   "display_name": "Python (networks)",
   "language": "python",
   "name": "net"
  },
  "language_info": {
   "codemirror_mode": {
    "name": "ipython",
    "version": 3
   },
   "file_extension": ".py",
   "mimetype": "text/x-python",
   "name": "python",
   "nbconvert_exporter": "python",
   "pygments_lexer": "ipython3",
   "version": "3.8.10"
  }
 },
 "nbformat": 4,
 "nbformat_minor": 5
}
